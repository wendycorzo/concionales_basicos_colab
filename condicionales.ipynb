{
  "nbformat": 4,
  "nbformat_minor": 0,
  "metadata": {
    "colab": {
      "provenance": [],
      "authorship_tag": "ABX9TyN+TX0kB/eLVf8FI4nKnjIi",
      "include_colab_link": true
    },
    "kernelspec": {
      "name": "python3",
      "display_name": "Python 3"
    },
    "language_info": {
      "name": "python"
    }
  },
  "cells": [
    {
      "cell_type": "markdown",
      "metadata": {
        "id": "view-in-github",
        "colab_type": "text"
      },
      "source": [
        "<a href=\"https://colab.research.google.com/github/wendycorzo/concionales_basicos_colab/blob/main/condicionales.ipynb\" target=\"_parent\"><img src=\"https://colab.research.google.com/assets/colab-badge.svg\" alt=\"Open In Colab\"/></a>"
      ]
    },
    {
      "cell_type": "code",
      "execution_count": null,
      "metadata": {
        "id": "T8Cbv7ESodSw"
      },
      "outputs": [],
      "source": []
    },
    {
      "cell_type": "markdown",
      "source": [
        "# INSTRUCCIONES CONDICIONALES\n",
        "\n",
        "- if\n",
        "- if else\n",
        "- if elif else"
      ],
      "metadata": {
        "id": "W_rnkiCdoid6"
      }
    },
    {
      "cell_type": "code",
      "source": [],
      "metadata": {
        "id": "nrIJcUaAqHKA"
      },
      "execution_count": null,
      "outputs": []
    },
    {
      "cell_type": "code",
      "source": [
        "\"\"\"Ejercicio1:\n",
        "Programa para verificar si una persona es mayor de edad\"\"\"\n",
        "\n",
        "print (\"-------------------------------------------\")\n",
        "print (\"-------MAYOR DE EDAD-----------\")\n",
        "print (\"-------------------------------------------\")\n",
        "\n",
        "# input \n",
        "edad=int  (input(\"Digite su edad:\"))\n",
        "\n",
        "# processing \n",
        "if edad >= 18:\n",
        "    print(\"La persona es MAYOR DE EDAD \")\n",
        "else:\n",
        "        print(\"La persona es MENOR DE EDAD\")"
      ],
      "metadata": {
        "colab": {
          "base_uri": "https://localhost:8080/"
        },
        "id": "I3bF4lElqDob",
        "outputId": "94fe2922-1c56-4ed8-9378-b768dfe873fb"
      },
      "execution_count": null,
      "outputs": [
        {
          "output_type": "stream",
          "name": "stdout",
          "text": [
            "-------------------------------------------\n",
            "-------MAYOR DE EDAD-----------\n",
            "-------------------------------------------\n"
          ]
        }
      ]
    },
    {
      "cell_type": "code",
      "source": [
        "\"\"\"Ejercicio  No. 2\n",
        "Programa que dado un rango de números enteros , obtiene la cantidad de números que contiene\"\"\"\n",
        "\n",
        "c = 0\n",
        "\n",
        "print(\"Ingrese el primer número del rango: \")\n",
        "xi=int(input())\n",
        "print((\"Ingrese el último número del rango: \"))\n",
        "xf=int(input())\n",
        "\n",
        "c = 0 \n",
        "i=xi+1\n",
        "\n",
        "if xi<xf:\n",
        "    while i<xf:\n",
        "        i=i+1\n",
        "\n",
        "        c=c+1\n",
        "        print(xi+c)\n",
        "else:\n",
        "    print(\"el xi debe ser menor que xf\")\n",
        "\n",
        "print(\"La cantidad de números es: \" + str(c))"
      ],
      "metadata": {
        "id": "c2fZF-fRqb4j"
      },
      "execution_count": null,
      "outputs": []
    },
    {
      "cell_type": "code",
      "source": [
        "\"\"\"Ejercicio 6:\n",
        "\n",
        "Programa para calcular las posibles\n",
        "\n",
        " soluciones de una ecuacion de segundo grado.\"\"\"\n",
        "\n",
        "print(\"-------------------------------------------------\")\n",
        "\n",
        "print(\"----------Soluciones de evcuaciones en segundo grado------------\")\n",
        "\n",
        "print(\"-------------------------------------------------\")\n",
        "\n",
        "# input\n",
        "\n",
        "\n",
        "print(\"ax^2+bx+c=0\")\n",
        "\n",
        "A=input(\"Digite el valor de A :\")\n",
        "\n",
        "A=int (A)\n",
        "\n",
        "B=input(\"Digite el valor de B :\")\n",
        "\n",
        "B=int (B)\n",
        "\n",
        "C=input(\"Digite el valor de C :\")\n",
        "\n",
        "C=int (C)\n",
        "\n",
        "import math\n",
        "\n",
        "\n",
        "# processing\n",
        "\n",
        "\n",
        "D=B**2-(4AC)\n",
        "\n",
        "if D<0:\n",
        "\n",
        "    print(\"No hay soluciones son raices imaginarias\")\n",
        "\n",
        "elif D==0:\n",
        "\n",
        "    X=-B/(2+A)\n",
        "\n",
        "    print (\"Tiene una unica solucion:\"+ str (X))\n",
        "\n",
        "elif D>0:\n",
        "\n",
        "    X1=(-B+(D**0.5))/2*A\n",
        "\n",
        "    X2=(-B-(D**0.5))/2*A\n",
        "\n",
        "    print(\"Tiene dos soluciones X1 y X2\" )\n",
        "\n",
        "    print (\"X1: \"+ str (X1))\n",
        "\n",
        "    print (\"X2: \"+ str (X2))\n"
      ],
      "metadata": {
        "id": "eWUiNQXpqebS"
      },
      "execution_count": null,
      "outputs": []
    }
  ]
}